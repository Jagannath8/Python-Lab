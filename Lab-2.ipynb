{
  "nbformat": 4,
  "nbformat_minor": 0,
  "metadata": {
    "colab": {
      "name": "LAB2.ipynb",
      "provenance": [],
      "authorship_tag": "ABX9TyMfl9D/J3xbtTaLsG8Jr+se",
      "include_colab_link": true
    },
    "kernelspec": {
      "name": "python3",
      "display_name": "Python 3"
    }
  },
  "cells": [
    {
      "cell_type": "markdown",
      "metadata": {
        "id": "view-in-github",
        "colab_type": "text"
      },
      "source": [
        "<a href=\"https://colab.research.google.com/github/Jagannath8/Python-Lab/blob/main/Lab-2.ipynb\" target=\"_parent\"><img src=\"https://colab.research.google.com/assets/colab-badge.svg\" alt=\"Open In Colab\"/></a>"
      ]
    },
    {
      "cell_type": "markdown",
      "metadata": {
        "id": "hF1Ffh0pe8Iq"
      },
      "source": [
        "# Display simple interest and compound interest."
      ]
    },
    {
      "cell_type": "code",
      "metadata": {
        "colab": {
          "base_uri": "https://localhost:8080/"
        },
        "id": "-j4jo2uCfK0A",
        "outputId": "aba2082b-249c-4e4e-ea61-89f025f2661f"
      },
      "source": [
        "p = int(input(\"Enter principal amount: \"))\r\n",
        "r = int(input(\"Enter rate of interest: \"))\r\n",
        "t = int(input(\"Enter time period: \"))\r\n",
        "SI = (p*r*t)/100\r\n",
        "CI = p * ((1+r/100) ** t-1)\r\n",
        "\r\n",
        "print(\"Simple Interest= \",SI)\r\n",
        "print(\"Compound Interest= \",CI)\r\n"
      ],
      "execution_count": 5,
      "outputs": [
        {
          "output_type": "stream",
          "text": [
            "Enter principal amount: 100\n",
            "Enter rate of interest: 5\n",
            "Enter time period: 2\n",
            "Simple Interest=  10.0\n",
            "Compound Interest=  10.250000000000004\n"
          ],
          "name": "stdout"
        }
      ]
    },
    {
      "cell_type": "markdown",
      "metadata": {
        "id": "aPTh0UPkiJYj"
      },
      "source": [
        "# Wrie a program to input 1st name, mid name, last name into three variables and then apply concatenation."
      ]
    },
    {
      "cell_type": "code",
      "metadata": {
        "colab": {
          "base_uri": "https://localhost:8080/"
        },
        "id": "2jBn1aX2jk8X",
        "outputId": "aa3b84c0-6bea-4dfb-9a40-38de94f64643"
      },
      "source": [
        "first = input(\"Enter 1st name: \")\r\n",
        "mid = input(\"Enter mid name: \")\r\n",
        "last = input(\"Enter last name: \")\r\n",
        "print(\"Full name:\", first + \" \" +  mid + \" \"  + last)"
      ],
      "execution_count": 10,
      "outputs": [
        {
          "output_type": "stream",
          "text": [
            "Enter 1st name: Bijay\n",
            "Enter mid name: Kumar\n",
            "Enter last name: Panda\n",
            "Full name: Bijay Kumar Panda\n"
          ],
          "name": "stdout"
        }
      ]
    },
    {
      "cell_type": "markdown",
      "metadata": {
        "id": "rC3XoabKlcJb"
      },
      "source": [
        "# Write a program to create a list with multiple dimensions and display the elements of it."
      ]
    },
    {
      "cell_type": "code",
      "metadata": {
        "colab": {
          "base_uri": "https://localhost:8080/"
        },
        "id": "Fhv_TyzvmJkK",
        "outputId": "b92605da-d6c7-4204-9bf8-f6c4bfacb207"
      },
      "source": [
        "a = [[1,2,3,4,5], [6,7,8,9,10], [11,12,13,14,15]] \r\n",
        "print(a) "
      ],
      "execution_count": 12,
      "outputs": [
        {
          "output_type": "stream",
          "text": [
            "[[1, 2, 3, 4, 5], [6, 7, 8, 9, 10], [11, 12, 13, 14, 15]]\n"
          ],
          "name": "stdout"
        }
      ]
    },
    {
      "cell_type": "markdown",
      "metadata": {
        "id": "VZo4LRZLmohg"
      },
      "source": [
        "# Write a program to implement type conversions on different data types."
      ]
    },
    {
      "cell_type": "code",
      "metadata": {
        "colab": {
          "base_uri": "https://localhost:8080/"
        },
        "id": "S8lV_Y-7mzGX",
        "outputId": "c90f035b-cd02-40f6-bb0c-3f3b851a4b25"
      },
      "source": [
        "str = \"10\"\r\n",
        "print(type(str))\r\n",
        "new = int(str)\r\n",
        "print(new)\r\n",
        "print(type(new))\r\n",
        "\r\n"
      ],
      "execution_count": 19,
      "outputs": [
        {
          "output_type": "stream",
          "text": [
            "<class 'str'>\n",
            "10\n",
            "<class 'int'>\n"
          ],
          "name": "stdout"
        }
      ]
    },
    {
      "cell_type": "markdown",
      "metadata": {
        "id": "gK1VR-DloFGI"
      },
      "source": [
        "# Find the distance between 2 points using pythagoras theorem where the coordinates of two points given input. "
      ]
    },
    {
      "cell_type": "code",
      "metadata": {
        "colab": {
          "base_uri": "https://localhost:8080/"
        },
        "id": "LpxGV281pDNJ",
        "outputId": "0c51fb21-027e-4681-ed50-6473b8581f63"
      },
      "source": [
        "import math\r\n",
        "x1=int(input(\"enter x1 : \"))\r\n",
        "x2=int(input(\"enter x2 : \"))\r\n",
        "y1=int(input(\"enter y1 : \"))\r\n",
        "y2=int(input(\"enter y2 : \"))\r\n",
        "result = math.sqrt( ( (x2 - x1 )**2) + ( (y2 - y1)**2)) \r\n",
        "print(\"Distance between\",(x1,x2),\"and\",(y1,y2),\"is : \",result)\r\n"
      ],
      "execution_count": 34,
      "outputs": [
        {
          "output_type": "stream",
          "text": [
            "enter x1 : 5\n",
            "enter x2 : 2\n",
            "enter y1 : 6\n",
            "enter y2 : 3\n",
            "Distance between (5, 2) and (6, 3) is :  4.242640687119285\n"
          ],
          "name": "stdout"
        }
      ]
    }
  ]
}