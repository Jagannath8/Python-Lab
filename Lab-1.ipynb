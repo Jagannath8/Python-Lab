{
  "nbformat": 4,
  "nbformat_minor": 0,
  "metadata": {
    "colab": {
      "name": "Untitled0.ipynb",
      "provenance": [],
      "collapsed_sections": [],
      "authorship_tag": "ABX9TyNDe4tNmE6R8GspWtqK/Cgg",
      "include_colab_link": true
    },
    "kernelspec": {
      "name": "python3",
      "display_name": "Python 3"
    }
  },
  "cells": [
    {
      "cell_type": "markdown",
      "metadata": {
        "id": "view-in-github",
        "colab_type": "text"
      },
      "source": [
        "<a href=\"https://colab.research.google.com/github/Jagannath8/Python-Lab/blob/main/Lab-1.ipynb\" target=\"_parent\"><img src=\"https://colab.research.google.com/assets/colab-badge.svg\" alt=\"Open In Colab\"/></a>"
      ]
    },
    {
      "cell_type": "markdown",
      "metadata": {
        "id": "gLq8yiQ5aa5w"
      },
      "source": [
        "#  WAP to input your name, age, address and print them."
      ]
    },
    {
      "cell_type": "code",
      "metadata": {
        "colab": {
          "base_uri": "https://localhost:8080/"
        },
        "id": "Fu_FQWZgan03",
        "outputId": "3c72f4c2-67ae-4ec4-9e77-4f452e54c2d2"
      },
      "source": [
        "name = input(\"Enter your name: \")\r\n",
        "age = int(input(\"Enter your age: \"))\r\n",
        "address = input(\"Enter address: \")\r\n",
        "print(\"Name:\" , name, \"Age:\" , age, \"Address:\" , address)"
      ],
      "execution_count": 11,
      "outputs": [
        {
          "output_type": "stream",
          "text": [
            "Enter your name: Jagannath Pal\n",
            "Enter your age: 20\n",
            "Enter address: G/378, sec-6, Rourkela-2\n",
            "Name: Jagannath Pal Age: 20 Address: G/378, sec-6, Rourkela-2\n"
          ],
          "name": "stdout"
        }
      ]
    },
    {
      "cell_type": "markdown",
      "metadata": {
        "id": "zqQV9EnJgeP0"
      },
      "source": [
        "# WAP to input marks fo three subjects then find the sum and percentage."
      ]
    },
    {
      "cell_type": "code",
      "metadata": {
        "id": "K2LBqDJogg9s",
        "outputId": "2fb56108-c403-46fb-80fa-f4398b533efe",
        "colab": {
          "base_uri": "https://localhost:8080/"
        }
      },
      "source": [
        "sub1 = int(input(\"Enter marks in Maths: \"))\r\n",
        "sub2 = int(input(\"Enter marks in English: \"))\r\n",
        "sub3 = int(input(\"Enter marks in Science: \"))\r\n",
        "sum = sub1 + sub2 + sub3 \r\n",
        "print(\"Total: \", sum)\r\n",
        "percentage = (sum/300) * 100\r\n",
        "print(\"Percentage: \", percentage)\r\n"
      ],
      "execution_count": 16,
      "outputs": [
        {
          "output_type": "stream",
          "text": [
            "Enter marks in Maths: 50\n",
            "Enter marks in English: 60\n",
            "Enter marks in Science: 70\n",
            "Total:  180\n",
            "Percentage:  60.0\n"
          ],
          "name": "stdout"
        }
      ]
    },
    {
      "cell_type": "markdown",
      "metadata": {
        "id": "xUp_exNSiArg"
      },
      "source": [
        "# WAP to find the area of the circle."
      ]
    },
    {
      "cell_type": "code",
      "metadata": {
        "id": "lFr2qPlxiN9_",
        "outputId": "05f5641c-9f3a-4240-fa7a-7d22aff0e6f9",
        "colab": {
          "base_uri": "https://localhost:8080/"
        }
      },
      "source": [
        "import math\r\n",
        "radius = int(input(\"Enter radius: \"))\r\n",
        "area = math.pi*radius*radius\r\n",
        "print(\"Area of circle is: \", area)"
      ],
      "execution_count": 18,
      "outputs": [
        {
          "output_type": "stream",
          "text": [
            "Enter radius: 5\n",
            "Area of circle is:  78.53981633974483\n"
          ],
          "name": "stdout"
        }
      ]
    }
  ]
}