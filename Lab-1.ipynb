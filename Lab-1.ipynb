{
  "nbformat": 4,
  "nbformat_minor": 0,
  "metadata": {
    "colab": {
      "name": "Untitled0.ipynb",
      "provenance": [],
      "collapsed_sections": [],
      "authorship_tag": "ABX9TyPE8ZItwxDUrYYKw1PcpwHR",
      "include_colab_link": true
    },
    "kernelspec": {
      "name": "python3",
      "display_name": "Python 3"
    }
  },
  "cells": [
    {
      "cell_type": "markdown",
      "metadata": {
        "id": "view-in-github",
        "colab_type": "text"
      },
      "source": [
        "<a href=\"https://colab.research.google.com/github/Jagannath8/Python-Lab/blob/main/Lab-1.ipynb\" target=\"_parent\"><img src=\"https://colab.research.google.com/assets/colab-badge.svg\" alt=\"Open In Colab\"/></a>"
      ]
    },
    {
      "cell_type": "markdown",
      "metadata": {
        "id": "gLq8yiQ5aa5w"
      },
      "source": [
        "#  WAP to input your name, age, address and print them."
      ]
    },
    {
      "cell_type": "code",
      "metadata": {
        "colab": {
          "base_uri": "https://localhost:8080/"
        },
        "id": "Fu_FQWZgan03",
        "outputId": "3c72f4c2-67ae-4ec4-9e77-4f452e54c2d2"
      },
      "source": [
        "name = input(\"Enter your name: \")\r\n",
        "age = int(input(\"Enter your age: \"))\r\n",
        "address = input(\"Enter address: \")\r\n",
        "print(\"Name:\" , name, \"Age:\" , age, \"Address:\" , address)"
      ],
      "execution_count": 11,
      "outputs": [
        {
          "output_type": "stream",
          "text": [
            "Enter your name: Jagannath Pal\n",
            "Enter your age: 20\n",
            "Enter address: G/378, sec-6, Rourkela-2\n",
            "Name: Jagannath Pal Age: 20 Address: G/378, sec-6, Rourkela-2\n"
          ],
          "name": "stdout"
        }
      ]
    }
  ]
}