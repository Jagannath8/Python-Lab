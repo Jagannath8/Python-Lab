{
  "nbformat": 4,
  "nbformat_minor": 0,
  "metadata": {
    "colab": {
      "name": "Untitled0.ipynb",
      "provenance": [],
      "collapsed_sections": [],
      "authorship_tag": "ABX9TyP7Pw3MBORw7g1vqOYheyku",
      "include_colab_link": true
    },
    "kernelspec": {
      "name": "python3",
      "display_name": "Python 3"
    }
  },
  "cells": [
    {
      "cell_type": "markdown",
      "metadata": {
        "id": "view-in-github",
        "colab_type": "text"
      },
      "source": [
        "<a href=\"https://colab.research.google.com/github/Jagannath8/Python-Lab/blob/main/Lab-1.ipynb\" target=\"_parent\"><img src=\"https://colab.research.google.com/assets/colab-badge.svg\" alt=\"Open In Colab\"/></a>"
      ]
    },
    {
      "cell_type": "markdown",
      "metadata": {
        "id": "gLq8yiQ5aa5w"
      },
      "source": [
        "#  WAP to input your name, age, address and print them."
      ]
    },
    {
      "cell_type": "code",
      "metadata": {
        "colab": {
          "base_uri": "https://localhost:8080/"
        },
        "id": "Fu_FQWZgan03",
        "outputId": "c72dcee2-c7c9-406e-c89e-3a5b3c4bf87f"
      },
      "source": [
        "name = input(\"Enter your name: \")\r\n",
        "age = int(input(\"Enter your age: \"))\r\n",
        "address = input(\"Enter address: \")\r\n",
        "print(\"Name:\" , name, \" Age:\" , age, \" Address:\" , address)"
      ],
      "execution_count": 19,
      "outputs": [
        {
          "output_type": "stream",
          "text": [
            "Enter your name: Jagannath Pal\n",
            "Enter your age: 20\n",
            "Enter address: G/378, sec-6, Rourkela-2\n",
            "Name: Jagannath Pal  Age: 20  Address: G/378, sec-6, Rourkela-2\n"
          ],
          "name": "stdout"
        }
      ]
    },
    {
      "cell_type": "markdown",
      "metadata": {
        "id": "zqQV9EnJgeP0"
      },
      "source": [
        "# WAP to input marks fo three subjects then find the sum and percentage."
      ]
    },
    {
      "cell_type": "code",
      "metadata": {
        "colab": {
          "base_uri": "https://localhost:8080/"
        },
        "id": "K2LBqDJogg9s",
        "outputId": "2fb56108-c403-46fb-80fa-f4398b533efe"
      },
      "source": [
        "sub1 = int(input(\"Enter marks in Maths: \"))\r\n",
        "sub2 = int(input(\"Enter marks in English: \"))\r\n",
        "sub3 = int(input(\"Enter marks in Science: \"))\r\n",
        "sum = sub1 + sub2 + sub3 \r\n",
        "print(\"Total: \", sum)\r\n",
        "percentage = (sum/300) * 100\r\n",
        "print(\"Percentage: \", percentage)\r\n"
      ],
      "execution_count": 16,
      "outputs": [
        {
          "output_type": "stream",
          "text": [
            "Enter marks in Maths: 50\n",
            "Enter marks in English: 60\n",
            "Enter marks in Science: 70\n",
            "Total:  180\n",
            "Percentage:  60.0\n"
          ],
          "name": "stdout"
        }
      ]
    },
    {
      "cell_type": "markdown",
      "metadata": {
        "id": "xUp_exNSiArg"
      },
      "source": [
        "# WAP to find the area of the circle."
      ]
    },
    {
      "cell_type": "code",
      "metadata": {
        "colab": {
          "base_uri": "https://localhost:8080/"
        },
        "id": "lFr2qPlxiN9_",
        "outputId": "05f5641c-9f3a-4240-fa7a-7d22aff0e6f9"
      },
      "source": [
        "import math\r\n",
        "radius = int(input(\"Enter radius: \"))\r\n",
        "area = math.pi*radius*radius\r\n",
        "print(\"Area of circle is: \", area)"
      ],
      "execution_count": 18,
      "outputs": [
        {
          "output_type": "stream",
          "text": [
            "Enter radius: 5\n",
            "Area of circle is:  78.53981633974483\n"
          ],
          "name": "stdout"
        }
      ]
    },
    {
      "cell_type": "markdown",
      "metadata": {
        "id": "hwq74hQcjiP1"
      },
      "source": [
        "# WAP to find the area and perimeter of triangle."
      ]
    },
    {
      "cell_type": "code",
      "metadata": {
        "id": "V9UgAJTxjprr",
        "outputId": "2e5b6180-3fe8-4910-de2a-5e8254e218fc",
        "colab": {
          "base_uri": "https://localhost:8080/"
        }
      },
      "source": [
        "a = float(input(\"enter side 1: \"))\r\n",
        "b = float(input(\"enter side 2: \"))\r\n",
        "c = float(input(\"enter side 3: \"))\r\n",
        "perimeter = a+b+c\r\n",
        "print(\"Perimeter of triangle is\", perimeter)\r\n",
        "s = perimeter/2\r\n",
        "area = (s*(s-a)*(s-b)*(s-c)) ** 0.5 \r\n",
        "print(\"Area of triangle is\", area)"
      ],
      "execution_count": 30,
      "outputs": [
        {
          "output_type": "stream",
          "text": [
            "enter side 1: 20\n",
            "enter side 2: 20\n",
            "enter side 3: 10\n",
            "Perimeter of triangle is 50.0\n",
            "Area of triangle is 96.82458365518542\n"
          ],
          "name": "stdout"
        }
      ]
    },
    {
      "cell_type": "markdown",
      "metadata": {
        "id": "TrZtHqA1myij"
      },
      "source": [
        "# WAP to find the volume of a sphere."
      ]
    },
    {
      "cell_type": "code",
      "metadata": {
        "id": "G20P3u4Pm5C4",
        "outputId": "350f34d5-7254-4abb-e78c-6af895fd72e8",
        "colab": {
          "base_uri": "https://localhost:8080/"
        }
      },
      "source": [
        "import math\r\n",
        "radius = int(input(\"Enter radius: \"))\r\n",
        "volume = 4.0/3.0 * math.pi * radius ** 3\r\n",
        "print('The volume of the sphere is: ',volume)"
      ],
      "execution_count": 31,
      "outputs": [
        {
          "output_type": "stream",
          "text": [
            "Enter radius: 5\n",
            "The volume of the sphere is:  523.5987755982989\n"
          ],
          "name": "stdout"
        }
      ]
    },
    {
      "cell_type": "markdown",
      "metadata": {
        "id": "uZqHJ3KGnZcQ"
      },
      "source": [
        "# WAP to create a list by initializing with 5 different fruit names and display them."
      ]
    },
    {
      "cell_type": "code",
      "metadata": {
        "id": "N94NQkf0nn1m",
        "outputId": "5b268714-0ea9-4682-888e-acef4276e516",
        "colab": {
          "base_uri": "https://localhost:8080/"
        }
      },
      "source": [
        "fruits = [\"apple\", \"mango\", \"orange\", \"banana\", \"pineapple\"]\r\n",
        "print(\"Fruits are: \", fruits)"
      ],
      "execution_count": 32,
      "outputs": [
        {
          "output_type": "stream",
          "text": [
            "Fruits are:  ['apple', 'mango', 'orange', 'banana', 'pineapple']\n"
          ],
          "name": "stdout"
        }
      ]
    },
    {
      "cell_type": "markdown",
      "metadata": {
        "id": "3lvGCIDnn6ns"
      },
      "source": [
        "# WAP to input a string and display its reverse string."
      ]
    },
    {
      "cell_type": "code",
      "metadata": {
        "id": "U7Mw_Tk-oRf0",
        "outputId": "02d51594-0172-410c-98b5-20a93771f0f5",
        "colab": {
          "base_uri": "https://localhost:8080/"
        }
      },
      "source": [
        "str = input(\"Enter a string: \")[::-1]\r\n",
        "print(str)"
      ],
      "execution_count": 35,
      "outputs": [
        {
          "output_type": "stream",
          "text": [
            "Enter a string: happy\n",
            "yppah\n"
          ],
          "name": "stdout"
        }
      ]
    }
  ]
}